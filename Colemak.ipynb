{
 "cells": [
  {
   "cell_type": "code",
   "execution_count": 21,
   "id": "b39dc577",
   "metadata": {},
   "outputs": [
    {
     "name": "stdout",
     "output_type": "stream",
     "text": [
      "QWERTY to Colemak mapping with frequency:\n",
      "k : e (Frequency: 1)\n",
      "f : t (Frequency: 2)\n",
      "a : a (Frequency: 3)\n",
      "; : o (Frequency: 4)\n",
      "l : i (Frequency: 5)\n",
      "j : n (Frequency: 6)\n",
      "d : s (Frequency: 7)\n",
      "h : h (Frequency: 8)\n",
      "s : r (Frequency: 9)\n",
      "g : d (Frequency: 10)\n",
      "u : l (Frequency: 11)\n",
      "c : c (Frequency: 12)\n",
      "i : u (Frequency: 13)\n",
      "m : m (Frequency: 14)\n",
      "w : w (Frequency: 15)\n",
      "e : f (Frequency: 16)\n",
      "t : g (Frequency: 17)\n",
      "o : y (Frequency: 18)\n",
      "r : p (Frequency: 19)\n",
      "b : b (Frequency: 20)\n",
      "v : v (Frequency: 21)\n",
      "n : k (Frequency: 22)\n",
      "y : j (Frequency: 23)\n",
      "x : x (Frequency: 24)\n",
      "q : q (Frequency: 25)\n",
      "z : z (Frequency: 26)\n"
     ]
    }
   ],
   "source": [
    "# Colemak layout mapping (QWERTY -> Colemak)\n",
    "colemak_mapping = {\n",
    "    'q': 'q', 'w': 'w', 'e': 'f', 'r': 'p', 't': 'g',\n",
    "    'y': 'j', 'u': 'l', 'i': 'u', 'o': 'y', 'p': ';',\n",
    "    'a': 'a', 's': 'r', 'd': 's', 'f': 't', 'g': 'd',\n",
    "    'h': 'h', 'j': 'n', 'k': 'e', 'l': 'i', ';': 'o',\n",
    "    'z': 'z', 'x': 'x', 'c': 'c', 'v': 'v', 'b': 'b',\n",
    "    'n': 'k', 'm': 'm'\n",
    "}\n",
    "\n",
    "# English letter frequency (descending order)\n",
    "english_freq = {\n",
    "    'e': 1, 't':2, 'a':3, 'o':4, 'i':5, 'n':6, 's':7, 'h':8, 'r':9, 'd':10,\n",
    "    'l': 11, 'c': 12, 'u': 13, 'm': 14, 'w': 15, 'f': 16,\n",
    "    'g': 17, 'y': 18, 'p': 19, 'b': 20,\n",
    "    'v': 21, 'k': 22, 'j': 23, 'x': 24, 'q': 25, 'z': 26\n",
    "}\n",
    "\n",
    "# Build a map: Colemak key -> QWERT Key -> English letter frequency\n",
    "colemak_freq_map = {}\n",
    "for qwerty_key, colemak_key in colemak_mapping.items():\n",
    "    if colemak_key in english_freq:\n",
    "        colemak_freq_map[colemak_key] = (qwerty_key, english_freq[colemak_key])\n",
    "# QWERTY keys -> English letter frequency\n",
    "qwerty_freq_map = {v[0]: v[1] for v in colemak_freq_map.values()}\n",
    "qwerty_freq_map = dict(sorted(qwerty_freq_map.items(), key=lambda item: item[1], reverse=False))\n",
    "# invert map\n",
    "freq_qwerty_map = {v: k for k, v in qwerty_freq_map.items()}\n",
    "freq_qwerty_map = dict(sorted(freq_qwerty_map.items(), key=lambda item: item[0], reverse=False))\n",
    "# Sort by frequency\n",
    "colemak_freq_map = dict(sorted(colemak_freq_map.items(), key=lambda item:\n",
    "    item[1][1], reverse=False))\n",
    "# Display the mapping\n",
    "print(\"QWERTY to Colemak mapping with frequency:\")\n",
    "for colemak_key, (qwerty_key, freq) in colemak_freq_map.items():\n",
    "    print(f\"{qwerty_key} : {colemak_key} (Frequency: {freq})\")"
   ]
  },
  {
   "cell_type": "code",
   "execution_count": 23,
   "id": "9e8320f2",
   "metadata": {},
   "outputs": [],
   "source": [
    "import pandas as pd\n",
    "\n",
    "# export freq_qwerty_map to csv\n",
    "df = pd.DataFrame(list(freq_qwerty_map.items()), columns=['Frequency', 'QWERTY Key'])\n",
    "df.to_csv('qwerty_freq_map_colemak.csv', index=False)"
   ]
  },
  {
   "cell_type": "code",
   "execution_count": null,
   "id": "b86d21bf",
   "metadata": {},
   "outputs": [],
   "source": []
  }
 ],
 "metadata": {
  "kernelspec": {
   "display_name": "base",
   "language": "python",
   "name": "python3"
  },
  "language_info": {
   "codemirror_mode": {
    "name": "ipython",
    "version": 3
   },
   "file_extension": ".py",
   "mimetype": "text/x-python",
   "name": "python",
   "nbconvert_exporter": "python",
   "pygments_lexer": "ipython3",
   "version": "3.13.5"
  }
 },
 "nbformat": 4,
 "nbformat_minor": 5
}
